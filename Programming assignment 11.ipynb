{
 "cells": [
  {
   "cell_type": "markdown",
   "id": "7ad0d115",
   "metadata": {},
   "source": [
    "## 1) Write a Python program to find words which are greater than given length k?"
   ]
  },
  {
   "cell_type": "code",
   "execution_count": 1,
   "id": "141e304b",
   "metadata": {},
   "outputs": [
    {
     "name": "stdout",
     "output_type": "stream",
     "text": [
      "Words longer than 5 characters: ['banana', 'orange', 'grapefruit']\n"
     ]
    }
   ],
   "source": [
    "def find_long_words(word_list, k):\n",
    "    long_words = []\n",
    "    for word in word_list:\n",
    "        if len(word) > k:\n",
    "            long_words.append(word)\n",
    "    return long_words\n",
    "\n",
    "# Example usage:\n",
    "words = ['apple', 'banana', 'orange', 'grapefruit', 'kiwi', 'pear']\n",
    "k = 5\n",
    "result = find_long_words(words, k)\n",
    "print(f\"Words longer than {k} characters: {result}\")"
   ]
  },
  {
   "cell_type": "markdown",
   "id": "5959bfc3",
   "metadata": {},
   "source": [
    "## 2) Write a Python program for removing i-th character from a string?"
   ]
  },
  {
   "cell_type": "code",
   "execution_count": 2,
   "id": "285f5570",
   "metadata": {},
   "outputs": [
    {
     "name": "stdout",
     "output_type": "stream",
     "text": [
      "Original string: Hello, World!\n",
      "Modified string: Hello, orld!\n"
     ]
    }
   ],
   "source": [
    "def remove_character(string, i):\n",
    "    if i < 0 or i >= len(string):\n",
    "        return string\n",
    "    else:\n",
    "        return string[:i] + string[i+1:]\n",
    "\n",
    "# Example usage:\n",
    "text = \"Hello, World!\"\n",
    "index = 7\n",
    "result = remove_character(text, index)\n",
    "print(\"Original string:\", text)\n",
    "print(\"Modified string:\", result)"
   ]
  },
  {
   "cell_type": "markdown",
   "id": "e2778a75",
   "metadata": {},
   "source": [
    "## 3) Write a Python program to split and join a string?"
   ]
  },
  {
   "cell_type": "code",
   "execution_count": 3,
   "id": "093de60c",
   "metadata": {},
   "outputs": [
    {
     "name": "stdout",
     "output_type": "stream",
     "text": [
      "Original string: Hello, World! This is a sample string.\n",
      "Joined string: Hello, World! This is a sample string.\n"
     ]
    }
   ],
   "source": [
    "def split_and_join(string):\n",
    "    # Split the string into a list of words\n",
    "    words = string.split()\n",
    "    \n",
    "    # Join the words back into a string using a space as the separator\n",
    "    joined_string = ' '.join(words)\n",
    "    \n",
    "    return joined_string\n",
    "\n",
    "# Example usage:\n",
    "text = \"Hello, World! This is a sample string.\"\n",
    "result = split_and_join(text)\n",
    "print(\"Original string:\", text)\n",
    "print(\"Joined string:\", result)"
   ]
  },
  {
   "cell_type": "markdown",
   "id": "18dcd6f5",
   "metadata": {},
   "source": [
    "## 4) Write a Python to check if a given string is binary string or not?"
   ]
  },
  {
   "cell_type": "code",
   "execution_count": 4,
   "id": "4b5a83ff",
   "metadata": {},
   "outputs": [
    {
     "name": "stdout",
     "output_type": "stream",
     "text": [
      "Is 101010 a binary string? True\n",
      "Is 101020 a binary string? False\n"
     ]
    }
   ],
   "source": [
    "def is_binary_string(string):\n",
    "    for char in string:\n",
    "        if char != '0' and char != '1':\n",
    "            return False\n",
    "    return True\n",
    "\n",
    "# Example usage:\n",
    "string1 = \"101010\"\n",
    "string2 = \"101020\"\n",
    "print(\"Is\", string1, \"a binary string?\", is_binary_string(string1))\n",
    "print(\"Is\", string2, \"a binary string?\", is_binary_string(string2))"
   ]
  },
  {
   "cell_type": "markdown",
   "id": "c7123ffb",
   "metadata": {},
   "source": [
    "## 5) Write a Python program to find uncommon words from two Strings?"
   ]
  },
  {
   "cell_type": "code",
   "execution_count": 5,
   "id": "e87c1d01",
   "metadata": {},
   "outputs": [
    {
     "name": "stdout",
     "output_type": "stream",
     "text": [
      "Uncommon words: {'it', 'going', 'there,', 'world', 'is', 'are', 'you'}\n"
     ]
    }
   ],
   "source": [
    "def find_uncommon_words(string1, string2):\n",
    "    # Split the strings into lists of words\n",
    "    words1 = string1.split()\n",
    "    words2 = string2.split()\n",
    "\n",
    "    # Create sets of unique words\n",
    "    set1 = set(words1)\n",
    "    set2 = set(words2)\n",
    "\n",
    "    # Find the uncommon words\n",
    "    uncommon_words = set1.symmetric_difference(set2)\n",
    "\n",
    "    return uncommon_words\n",
    "\n",
    "# Example usage:\n",
    "string1 = \"Hello world how are you\"\n",
    "string2 = \"Hello there, how is it going\"\n",
    "uncommon_words = find_uncommon_words(string1, string2)\n",
    "print(\"Uncommon words:\", uncommon_words)"
   ]
  },
  {
   "cell_type": "markdown",
   "id": "1951e7a8",
   "metadata": {},
   "source": [
    "## 6) Write a Python to find all duplicate characters in string?"
   ]
  },
  {
   "cell_type": "code",
   "execution_count": 6,
   "id": "27e877af",
   "metadata": {},
   "outputs": [
    {
     "name": "stdout",
     "output_type": "stream",
     "text": [
      "Duplicate characters: {'l', 'o'}\n"
     ]
    }
   ],
   "source": [
    "def find_duplicate_characters(string):\n",
    "    # Create an empty set to store duplicate characters\n",
    "    duplicates = set()\n",
    "\n",
    "    # Create an empty set to store seen characters\n",
    "    seen = set()\n",
    "\n",
    "    # Iterate over each character in the string\n",
    "    for char in string:\n",
    "        # Check if the character is already in the seen set\n",
    "        if char in seen:\n",
    "            duplicates.add(char)  # Add the character to the duplicates set\n",
    "        else:\n",
    "            seen.add(char)  # Add the character to the seen set\n",
    "\n",
    "    return duplicates\n",
    "\n",
    "# Example usage:\n",
    "string = \"Hello World\"\n",
    "duplicate_characters = find_duplicate_characters(string)\n",
    "print(\"Duplicate characters:\", duplicate_characters)"
   ]
  },
  {
   "cell_type": "markdown",
   "id": "ee214302",
   "metadata": {},
   "source": [
    "## 7) Write a Python Program to check if a string contains any special character?"
   ]
  },
  {
   "cell_type": "code",
   "execution_count": 7,
   "id": "560a571b",
   "metadata": {},
   "outputs": [
    {
     "name": "stdout",
     "output_type": "stream",
     "text": [
      "Contains special character: True\n"
     ]
    }
   ],
   "source": [
    "import re\n",
    "\n",
    "def contains_special_character(string):\n",
    "    # Regular expression pattern to match special characters\n",
    "    pattern = r'[!@#$%^&*(),.?\":{}|<>]'\n",
    "\n",
    "    # Use the search() function from the re module to check for a match\n",
    "    match = re.search(pattern, string)\n",
    "\n",
    "    # If a match is found, return True; otherwise, return False\n",
    "    return match is not None\n",
    "\n",
    "# Example usage:\n",
    "string = \"Hello!World\"\n",
    "contains_special = contains_special_character(string)\n",
    "print(\"Contains special character:\", contains_special)"
   ]
  }
 ],
 "metadata": {
  "kernelspec": {
   "display_name": "Python 3 (ipykernel)",
   "language": "python",
   "name": "python3"
  },
  "language_info": {
   "codemirror_mode": {
    "name": "ipython",
    "version": 3
   },
   "file_extension": ".py",
   "mimetype": "text/x-python",
   "name": "python",
   "nbconvert_exporter": "python",
   "pygments_lexer": "ipython3",
   "version": "3.9.13"
  }
 },
 "nbformat": 4,
 "nbformat_minor": 5
}
